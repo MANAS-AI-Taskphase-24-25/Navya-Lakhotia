{
  "nbformat": 4,
  "nbformat_minor": 0,
  "metadata": {
    "colab": {
      "provenance": []
    },
    "kernelspec": {
      "name": "python3",
      "display_name": "Python 3"
    },
    "language_info": {
      "name": "python"
    }
  },
  "cells": [
    {
      "cell_type": "code",
      "execution_count": 4,
      "metadata": {
        "id": "kJMedCnAwIi4"
      },
      "outputs": [],
      "source": [
        "import numpy as np\n",
        "import pandas as pd\n",
        "import matplotlib.pyplot as plt\n",
        "import math\n",
        "import copy\n",
        "import seaborn as sb"
      ]
    },
    {
      "cell_type": "code",
      "source": [
        "#loading the training dataset\n",
        "train_df = pd.read_csv(\"Gotem Pumpkins.csv\", index_col=0)\n",
        "train_df = pd.get_dummies(train_df, columns=[\"Class\"], drop_first=True)\n",
        "train_df = train_df.astype({\"Class_Ürgüp Sivrisi\":\"int\"})\n",
        "train_df.drop_duplicates(inplace=True)\n",
        "train_df.dropna(inplace=True)\n",
        "print(train_df.head())"
      ],
      "metadata": {
        "colab": {
          "base_uri": "https://localhost:8080/"
        },
        "id": "UzaROBe8wocw",
        "outputId": "e988ba19-70a3-465d-e5e6-59f513cbf516"
      },
      "execution_count": 5,
      "outputs": [
        {
          "output_type": "stream",
          "name": "stdout",
          "text": [
            "     Area  Perimeter  Major_Axis_Length  Minor_Axis_Length  Convex_Area  \\\n",
            "0   84930   1204.448           508.7883           213.0266        85665   \n",
            "1  103343   1275.261           521.4694           252.8941       104156   \n",
            "2   98350   1269.539           526.2346           238.4702        99184   \n",
            "3   69517   1059.538           429.8407           206.8250        70493   \n",
            "4   80011   1182.947           501.9065           204.7531        80902   \n",
            "\n",
            "   Equiv_Diameter  Eccentricity  Solidity  Extent  Roundness  Aspect_Ration  \\\n",
            "0        328.8407        0.9081    0.9914  0.5482     0.7357         2.3884   \n",
            "1        362.7401        0.8745    0.9922  0.7457     0.7985         2.0620   \n",
            "2        353.8688        0.8914    0.9916  0.5919     0.7668         2.2067   \n",
            "3        297.5093        0.8766    0.9862  0.6623     0.7782         2.0783   \n",
            "4        319.1758        0.9130    0.9890  0.7374     0.7185         2.4513   \n",
            "\n",
            "   Compactness  Class_Ürgüp Sivrisi  \n",
            "0       0.6463                    1  \n",
            "1       0.6956                    1  \n",
            "2       0.6725                    1  \n",
            "3       0.6921                    0  \n",
            "4       0.6359                    1  \n"
          ]
        }
      ]
    },
    {
      "cell_type": "code",
      "source": [
        "x_train = train_df.drop(\"Class_Ürgüp Sivrisi\", axis=1)\n",
        "y_train = train_df.iloc[:,-1].to_numpy()\n",
        "\n",
        "print(f\"\\nx Shape: {x_train.shape}, X Type:{type(x_train)})\")\n",
        "print(x_train.head())\n",
        "print(f\"\\ny Shape: {y_train.shape}, y Type:{type(y_train)})\")\n",
        "print(y_train[:5])"
      ],
      "metadata": {
        "colab": {
          "base_uri": "https://localhost:8080/"
        },
        "id": "g0AoCBozzDGu",
        "outputId": "b85323f8-95f9-4707-b686-b1a10f127132"
      },
      "execution_count": 6,
      "outputs": [
        {
          "output_type": "stream",
          "name": "stdout",
          "text": [
            "\n",
            "x Shape: (2000, 12), X Type:<class 'pandas.core.frame.DataFrame'>)\n",
            "     Area  Perimeter  Major_Axis_Length  Minor_Axis_Length  Convex_Area  \\\n",
            "0   84930   1204.448           508.7883           213.0266        85665   \n",
            "1  103343   1275.261           521.4694           252.8941       104156   \n",
            "2   98350   1269.539           526.2346           238.4702        99184   \n",
            "3   69517   1059.538           429.8407           206.8250        70493   \n",
            "4   80011   1182.947           501.9065           204.7531        80902   \n",
            "\n",
            "   Equiv_Diameter  Eccentricity  Solidity  Extent  Roundness  Aspect_Ration  \\\n",
            "0        328.8407        0.9081    0.9914  0.5482     0.7357         2.3884   \n",
            "1        362.7401        0.8745    0.9922  0.7457     0.7985         2.0620   \n",
            "2        353.8688        0.8914    0.9916  0.5919     0.7668         2.2067   \n",
            "3        297.5093        0.8766    0.9862  0.6623     0.7782         2.0783   \n",
            "4        319.1758        0.9130    0.9890  0.7374     0.7185         2.4513   \n",
            "\n",
            "   Compactness  \n",
            "0       0.6463  \n",
            "1       0.6956  \n",
            "2       0.6725  \n",
            "3       0.6921  \n",
            "4       0.6359  \n",
            "\n",
            "y Shape: (2000,), y Type:<class 'numpy.ndarray'>)\n",
            "[1 1 1 0 1]\n"
          ]
        }
      ]
    },
    {
      "cell_type": "code",
      "source": [
        "#z score normalisation - feature scaling\n",
        "x_mu = np.mean(x_train,axis=0)\n",
        "x_sigma = np.std(x_train, axis=0)\n",
        "x_sigma[x_sigma == 0] = 1  #replace zero standard deviations with 1 because all values identical(avoid division by 0)\n",
        "x_norm = ((x_train - x_mu)/x_sigma).to_numpy()\n",
        "print(f\"X_mu = \\n{x_mu}, \\n\\nX_sigma = \\n{x_sigma}\\n\\n\")\n",
        "print(f\"\\nPeak to Peak range by column in Raw        X:\\n{np.ptp(x_train,axis=0)}\") #range of each col\n",
        "print(f\"\\nPeak to Peak range by column in Normalized X:\\n{np.ptp(x_norm,axis=0)}\")"
      ],
      "metadata": {
        "colab": {
          "base_uri": "https://localhost:8080/"
        },
        "id": "9OegO9HLz-QF",
        "outputId": "b933e942-3966-4245-bb07-2aef057f6666"
      },
      "execution_count": 7,
      "outputs": [
        {
          "output_type": "stream",
          "name": "stdout",
          "text": [
            "X_mu = \n",
            "Area                 80641.462500\n",
            "Perimeter             1130.261905\n",
            "Major_Axis_Length      456.638748\n",
            "Minor_Axis_Length      225.707590\n",
            "Convex_Area          81495.589000\n",
            "Equiv_Diameter         319.289997\n",
            "Eccentricity             0.861151\n",
            "Solidity                 0.989427\n",
            "Extent                   0.694210\n",
            "Roundness                0.791254\n",
            "Aspect_Ration            2.042135\n",
            "Compactness              0.703924\n",
            "dtype: float64, \n",
            "\n",
            "X_sigma = \n",
            "Area                 13715.952455\n",
            "Perimeter              109.304507\n",
            "Major_Axis_Length       56.317078\n",
            "Minor_Axis_Length       23.157882\n",
            "Convex_Area          13812.946035\n",
            "Equiv_Diameter          27.014764\n",
            "Eccentricity             0.044500\n",
            "Solidity                 0.003636\n",
            "Extent                   0.060165\n",
            "Roundness                0.055334\n",
            "Aspect_Ration            0.313875\n",
            "Compactness              0.052535\n",
            "dtype: float64\n",
            "\n",
            "\n",
            "\n",
            "Peak to Peak range by column in Raw        X:\n",
            "Area                 88635.0000\n",
            "Perimeter              690.9650\n",
            "Major_Axis_Length      341.0667\n",
            "Minor_Axis_Length      151.8160\n",
            "Convex_Area          90018.0000\n",
            "Equiv_Diameter         169.9445\n",
            "Eccentricity             0.4543\n",
            "Solidity                 0.0758\n",
            "Extent                   0.3453\n",
            "Roundness                0.3687\n",
            "Aspect_Ration            1.9482\n",
            "Compactness              0.3379\n",
            "dtype: float64\n",
            "\n",
            "Peak to Peak range by column in Normalized X:\n",
            "[ 6.46218338  6.32146854  6.05618597  6.55569463  6.51692983  6.29080087\n",
            " 10.20897055 20.84575339  5.73920896  6.66315873  6.20693919  6.43189424]\n"
          ]
        }
      ]
    },
    {
      "cell_type": "code",
      "source": [
        "#defining sigmoid function\n",
        "def sigmoid(z):\n",
        "  g = 1/(1 + np.exp(-z))\n",
        "  return g"
      ],
      "metadata": {
        "id": "KenhNu2r2tmh"
      },
      "execution_count": 8,
      "outputs": []
    },
    {
      "cell_type": "code",
      "source": [
        "#defining function to compute total cost of all iterations\n",
        "def compute_cost_logistic(X, y, w, b, lambda_ = 1):\n",
        "    m,n  = X.shape\n",
        "    cost = 0.\n",
        "    for i in range(m):\n",
        "        z_i = np.dot(X[i], w)+b\n",
        "        f_wb_i = sigmoid(z_i)\n",
        "        cost +=  -y[i]*np.log(f_wb_i) - (1-y[i])*np.log(1-f_wb_i)\n",
        "\n",
        "    cost/= m\n",
        "\n",
        "    reg_cost = 0\n",
        "    for j in range(n):\n",
        "        reg_cost+= (w[j]**2)\n",
        "    reg_cost = (lambda_/(2*m))*reg_cost\n",
        "\n",
        "    total_cost = cost + reg_cost\n",
        "    return total_cost"
      ],
      "metadata": {
        "id": "lnGxQFHb0EuC"
      },
      "execution_count": 9,
      "outputs": []
    },
    {
      "cell_type": "code",
      "source": [
        "#function to compute gradient of a single iteration\n",
        "def compute_gradient_logistic(X, y, w, b):\n",
        "  m,n = X.shape\n",
        "  dj_dw = np.zeros((n,))\n",
        "  dj_db = 0.\n",
        "\n",
        "  for i in range(m):\n",
        "    f_wb_i = sigmoid(np.dot(X[i],w) + b)\n",
        "    err_i  = f_wb_i  - y[i]\n",
        "    for j in range(n):\n",
        "      dj_dw[j] = dj_dw[j] + err_i*X[i,j]\n",
        "      dj_db = dj_db + err_i\n",
        "  dj_dw = dj_dw/m\n",
        "  dj_db = dj_db/m\n",
        "\n",
        "  return dj_db, dj_dw"
      ],
      "metadata": {
        "id": "ba0QK9Um3hUF"
      },
      "execution_count": 10,
      "outputs": []
    },
    {
      "cell_type": "code",
      "source": [
        "#function for gradient descent\n",
        "def grad_desc(X, y, w_in, b_in, alpha, iters):\n",
        "  J_history = []\n",
        "  w = copy.deepcopy(w_in)  #avoid modifying global w within function\n",
        "  b = b_in\n",
        "\n",
        "  for i in range(1,iters+1):\n",
        "    dj_db, dj_dw = compute_gradient_logistic(X, y, w, b)\n",
        "    w = w - alpha * dj_dw\n",
        "    b = b - alpha * dj_db\n",
        "    if i<100000:      #preventing resource exhaustion\n",
        "      J_history.append( compute_cost_logistic(X, y, w, b) )\n",
        "    if i% math.ceil(iters / 10) == 0:\n",
        "      print(f\"Iteration {i:4d}: Cost {J_history[-1]}   \")\n",
        "\n",
        "  return w, b, J_history"
      ],
      "metadata": {
        "id": "dlBjtuyfEc4I"
      },
      "execution_count": 11,
      "outputs": []
    },
    {
      "cell_type": "code",
      "source": [
        "test_df = pd.read_csv(\"Freyja_Pumpkins.csv\", index_col=0)\n",
        "test_df = pd.get_dummies(test_df, columns=[\"Class\"], drop_first=True)\n",
        "test_df = test_df.astype({\"Class_Ürgüp Sivrisi\":\"int\"})\n",
        "test_df.drop_duplicates(inplace=True)\n",
        "test_df.dropna(inplace=True)\n",
        "\n",
        "x_test = test_df.drop(\"Class_Ürgüp Sivrisi\", axis=1)\n",
        "y_test = test_df.iloc[:,-1].to_numpy()"
      ],
      "metadata": {
        "id": "vLC1ybtsFVvA"
      },
      "execution_count": 12,
      "outputs": []
    },
    {
      "cell_type": "code",
      "source": [
        "#normalising the testing data\n",
        "x_mu_t = np.mean(x_test,axis=0)\n",
        "x_sigma_t = np.std(x_test, axis=0)\n",
        "x_sigma_t[x_sigma_t == 0] = 1  #replace zero standard deviations with 1 because all values identical(avoid division by 0)\n",
        "x_norm_t = ((x_test - x_mu_t)/x_sigma_t).to_numpy()\n",
        "print(f\"X_mu = \\n{x_mu_t}, \\n\\nX_sigma = \\n{x_sigma_t}\\n\\n\")\n",
        "print(f\"\\nPeak to Peak range by column in Raw        X:\\n{np.ptp(x_test,axis=0)}\") #range of each col\n",
        "print(f\"\\nPeak to Peak range by column in Normalized X:\\n{np.ptp(x_norm_t,axis=0)}\")"
      ],
      "metadata": {
        "colab": {
          "base_uri": "https://localhost:8080/"
        },
        "id": "wLUkphqiQYch",
        "outputId": "fb36d684-1b3b-4257-8f95-77580232f269"
      },
      "execution_count": 13,
      "outputs": [
        {
          "output_type": "stream",
          "name": "stdout",
          "text": [
            "X_mu = \n",
            "Area                 80725.254000\n",
            "Perimeter             1130.347452\n",
            "Major_Axis_Length      456.454207\n",
            "Minor_Axis_Length      226.144247\n",
            "Convex_Area          81558.066000\n",
            "Equiv_Diameter         319.511164\n",
            "Eccentricity             0.859791\n",
            "Solidity                 0.989749\n",
            "Extent                   0.689183\n",
            "Roundness                0.792646\n",
            "Aspect_Ration            2.039970\n",
            "Compactness              0.704908\n",
            "dtype: float64, \n",
            "\n",
            "X_sigma = \n",
            "Area                 13442.683414\n",
            "Perimeter              108.954319\n",
            "Major_Axis_Length       55.852185\n",
            "Minor_Axis_Length       23.820580\n",
            "Convex_Area          13552.834226\n",
            "Equiv_Diameter          26.366672\n",
            "Eccentricity             0.047685\n",
            "Solidity                 0.002834\n",
            "Extent                   0.063603\n",
            "Roundness                0.058156\n",
            "Aspect_Ration            0.324034\n",
            "Compactness              0.055085\n",
            "dtype: float64\n",
            "\n",
            "\n",
            "\n",
            "Peak to Peak range by column in Raw        X:\n",
            "Area                 84785.0000\n",
            "Perimeter              632.2830\n",
            "Major_Axis_Length      314.0422\n",
            "Minor_Axis_Length      148.4059\n",
            "Convex_Area          85281.0000\n",
            "Equiv_Diameter         161.2930\n",
            "Eccentricity             0.2895\n",
            "Solidity                 0.0238\n",
            "Extent                   0.3128\n",
            "Roundness                0.3170\n",
            "Aspect_Ration            1.8154\n",
            "Compactness              0.3057\n",
            "dtype: float64\n",
            "\n",
            "Peak to Peak range by column in Normalized X:\n",
            "[6.30714846 5.80319353 5.62273794 6.23015467 6.29248455 6.11730602\n",
            " 6.07106279 8.39878607 4.91798511 5.45081091 5.60250306 5.54962945]\n"
          ]
        }
      ]
    },
    {
      "cell_type": "code",
      "source": [
        "#initialising\n",
        "w_init = np.zeros(x_train.shape[1])\n",
        "b_init = 0.\n",
        "iterations = 1000\n",
        "lambda_ = 0"
      ],
      "metadata": {
        "id": "weYj9m68ImQO"
      },
      "execution_count": 14,
      "outputs": []
    },
    {
      "cell_type": "code",
      "source": [
        "#finding optimal alpha\n",
        "alphas = [0.001, 0.003, 0.01, 0.03, 0.1,0.3,1]\n",
        "alpha_iter = 200\n",
        "best_alpha = None\n",
        "lowest_cost = float('inf')\n",
        "J_hist_alpha = []\n",
        "\n",
        "for alpha in alphas:\n",
        "    w_final, b_final, J_hist = grad_desc(x_norm, y_train, w_init, b_init, alpha, alpha_iter)\n",
        "    final_cost = J_hist[-1]\n",
        "    J_hist_alpha.append(final_cost)\n",
        "    print(f\"Alpha: {alpha}, Final Cost: {final_cost}\")\n",
        "\n",
        "    if final_cost < lowest_cost:\n",
        "        lowest_cost = final_cost\n",
        "        best_alpha = alpha\n",
        "\n",
        "print(f\"Optimal Learning Rate: {best_alpha}\")"
      ],
      "metadata": {
        "colab": {
          "base_uri": "https://localhost:8080/"
        },
        "id": "brNh2OFUKFR1",
        "outputId": "6f8de924-ae33-455c-bde5-9ef0aabcdff9"
      },
      "execution_count": 23,
      "outputs": [
        {
          "output_type": "stream",
          "name": "stdout",
          "text": [
            "Iteration   20: Cost 0.6798172090695638   \n",
            "Iteration   40: Cost 0.6671918116961358   \n",
            "Iteration   60: Cost 0.6552309217105187   \n",
            "Iteration   80: Cost 0.6438959678251004   \n",
            "Iteration  100: Cost 0.6331500133092096   \n",
            "Iteration  120: Cost 0.6229578490637266   \n",
            "Iteration  140: Cost 0.6132860466521346   \n",
            "Iteration  160: Cost 0.6041029774511666   \n",
            "Iteration  180: Cost 0.5953788039156174   \n",
            "Iteration  200: Cost 0.5870854485462826   \n",
            "Alpha: 0.001, Final Cost: 0.5870854485462826\n",
            "Iteration   20: Cost 0.6551836572705264   \n",
            "Iteration   40: Cost 0.6228782575718876   \n",
            "Iteration   60: Cost 0.5952781517208454   \n",
            "Iteration   80: Cost 0.5715738801862277   \n",
            "Iteration  100: Cost 0.5510938883333228   \n",
            "Iteration  120: Cost 0.5332886655848391   \n",
            "Iteration  140: Cost 0.5177116164379804   \n",
            "Iteration  160: Cost 0.5040005199906723   \n",
            "Iteration  180: Cost 0.4918612462373439   \n",
            "Iteration  200: Cost 0.4810541811294653   \n",
            "Alpha: 0.003, Final Cost: 0.4810541811294653\n",
            "Iteration   20: Cost 0.586607209035387   \n",
            "Iteration   40: Cost 0.5222447085565225   \n",
            "Iteration   60: Cost 0.48064860125045095   \n",
            "Iteration   80: Cost 0.4520257655511255   \n",
            "Iteration  100: Cost 0.43130982418513814   \n",
            "Iteration  120: Cost 0.4157113306317251   \n",
            "Iteration  140: Cost 0.4035939144553485   \n",
            "Iteration  160: Cost 0.3939425781360482   \n",
            "Iteration  180: Cost 0.3860973411011096   \n",
            "Iteration  200: Cost 0.3796117381174737   \n",
            "Alpha: 0.01, Final Cost: 0.3796117381174737\n",
            "Iteration   20: Cost 0.47947642093671805   \n",
            "Iteration   40: Cost 0.4149547074236026   \n",
            "Iteration   60: Cost 0.3856031090782019   \n",
            "Iteration   80: Cost 0.36921740207976966   \n",
            "Iteration  100: Cost 0.35893948374515466   \n",
            "Iteration  120: Cost 0.3519875875460517   \n",
            "Iteration  140: Cost 0.3470284139866965   \n",
            "Iteration  160: Cost 0.3433471818274855   \n",
            "Iteration  180: Cost 0.3405286423040294   \n",
            "Iteration  200: Cost 0.3383165039965988   \n",
            "Alpha: 0.03, Final Cost: 0.3383165039965988\n",
            "Iteration   20: Cost 0.37764561465050267   \n",
            "Iteration   40: Cost 0.347978663042311   \n",
            "Iteration   60: Cost 0.3380703670935168   \n",
            "Iteration   80: Cost 0.3334270578631906   \n",
            "Iteration  100: Cost 0.330866743710548   \n",
            "Iteration  120: Cost 0.32932345452135153   \n",
            "Iteration  140: Cost 0.3283407119772815   \n",
            "Iteration  160: Cost 0.3276890639981704   \n",
            "Iteration  180: Cost 0.32724176169110786   \n",
            "Iteration  200: Cost 0.3269248305758147   \n",
            "Alpha: 0.1, Final Cost: 0.3269248305758147\n",
            "Iteration   20: Cost 0.3373715636286536   \n",
            "Iteration   40: Cost 0.32917899230078196   \n",
            "Iteration   60: Cost 0.3271944496588275   \n",
            "Iteration   80: Cost 0.32650122014028915   \n",
            "Iteration  100: Cost 0.32618223742610736   \n",
            "Iteration  120: Cost 0.325991970532173   \n",
            "Iteration  140: Cost 0.3258505995728422   \n",
            "Iteration  160: Cost 0.3257290875685892   \n",
            "Iteration  180: Cost 0.3256162482069138   \n",
            "Iteration  200: Cost 0.32550766485791593   \n",
            "Alpha: 0.3, Final Cost: 0.32550766485791593\n",
            "Iteration   20: Cost 0.32676839240028693   \n",
            "Iteration   40: Cost 0.3258895512425886   \n",
            "Iteration   60: Cost 0.32550849335005555   \n",
            "Iteration   80: Cost 0.3251617159732163   \n",
            "Iteration  100: Cost 0.3248307741058156   \n",
            "Iteration  120: Cost 0.32451399603580483   \n",
            "Iteration  140: Cost 0.3242100805533875   \n",
            "Iteration  160: Cost 0.323917815737188   \n",
            "Iteration  180: Cost 0.3236361665861021   \n",
            "Iteration  200: Cost 0.323364272597118   \n",
            "Alpha: 1, Final Cost: 0.323364272597118\n",
            "Optimal Learning Rate: 1\n"
          ]
        }
      ]
    },
    {
      "cell_type": "code",
      "source": [
        "#plotting variation of final cost with learning rate\n",
        "plt.plot(alphas, J_hist_alpha, marker='.')\n",
        "plt.xlabel(\"Alpha (Learning Rate)\")\n",
        "plt.ylabel(\"Final Cost\")\n",
        "plt.title(\"Learning Rate vs Cost\")\n",
        "plt.show()"
      ],
      "metadata": {
        "id": "GqJAcL7DeUPe"
      },
      "execution_count": null,
      "outputs": []
    },
    {
      "cell_type": "code",
      "source": [
        "#gradient at initial weights\n",
        "tmp_dj_db, tmp_dj_dw = compute_gradient_logistic(x_norm, y_train, w_init, b_init)\n",
        "print(f'dj_db at initial w,b: {tmp_dj_db}')\n",
        "print(f'dj_dw at initial w,b: \\n {tmp_dj_dw}')"
      ],
      "metadata": {
        "colab": {
          "base_uri": "https://localhost:8080/"
        },
        "id": "il9T_KESKK_N",
        "outputId": "863502ca-19a2-4e88-c5f9-ab5a7d462a61"
      },
      "execution_count": 16,
      "outputs": [
        {
          "output_type": "stream",
          "name": "stdout",
          "text": [
            "dj_db at initial w,b: 0.192\n",
            "dj_dw at initial w,b: \n",
            " [-0.08559126 -0.19205489 -0.27825229  0.19762236 -0.08447719 -0.0808151\n",
            " -0.34943529 -0.05963228  0.10727929  0.33060309 -0.35934302  0.36236265]\n"
          ]
        }
      ]
    },
    {
      "cell_type": "code",
      "source": [
        "w_final, b_final, J_hist = grad_desc(x_norm, y_train, w_init, b_init, best_alpha, iterations)"
      ],
      "metadata": {
        "colab": {
          "base_uri": "https://localhost:8080/"
        },
        "id": "Vbkxa6xFKLt5",
        "outputId": "ac3f4be4-5627-4195-abaf-b8703a398e6f"
      },
      "execution_count": 17,
      "outputs": [
        {
          "output_type": "stream",
          "name": "stdout",
          "text": [
            "Iteration  100: Cost 0.3248307741058156   \n",
            "Iteration  200: Cost 0.323364272597118   \n",
            "Iteration  300: Cost 0.32212991685248266   \n",
            "Iteration  400: Cost 0.32106944973566576   \n",
            "Iteration  500: Cost 0.3201551022173691   \n",
            "Iteration  600: Cost 0.3193698367419729   \n",
            "Iteration  700: Cost 0.31870080418851277   \n",
            "Iteration  800: Cost 0.3181371861253014   \n",
            "Iteration  900: Cost 0.3176694924644969   \n",
            "Iteration 1000: Cost 0.31728934163745665   \n"
          ]
        }
      ]
    },
    {
      "cell_type": "code",
      "source": [
        "sigmoid_predictions = sigmoid(np.dot(x_norm_t, w_final) + b_final)\n",
        "predictions = [1 if value >= 0.5 else 0 for value in sigmoid_predictions] #converting value from numerical to either 0 or 1\n",
        "\n",
        "print(\"Running on testing data:\\n\")\n",
        "for i in range(0,len(predictions),50): #printing predictions at an interval of 50 to reduce length of output. confusion matrix of all predictions plotted later\n",
        "    print(f\"Prediction #{i+1}: {predictions[i]}\\t\\tActual value: {y_test[i]}\")"
      ],
      "metadata": {
        "colab": {
          "base_uri": "https://localhost:8080/"
        },
        "id": "c4z8c6QGRHt8",
        "outputId": "9d1c7c4b-e675-4509-b38f-da22fc781922"
      },
      "execution_count": 27,
      "outputs": [
        {
          "output_type": "stream",
          "name": "stdout",
          "text": [
            "Running on testing data:\n",
            "\n",
            "Prediction #1: 0\t\tActual value: 0\n",
            "Prediction #51: 1\t\tActual value: 1\n",
            "Prediction #101: 0\t\tActual value: 0\n",
            "Prediction #151: 0\t\tActual value: 0\n",
            "Prediction #201: 1\t\tActual value: 1\n",
            "Prediction #251: 0\t\tActual value: 0\n",
            "Prediction #301: 0\t\tActual value: 0\n",
            "Prediction #351: 0\t\tActual value: 0\n",
            "Prediction #401: 0\t\tActual value: 0\n",
            "Prediction #451: 0\t\tActual value: 1\n"
          ]
        }
      ]
    },
    {
      "cell_type": "code",
      "source": [
        "plt.plot(J_hist, label=\"Training Cost\")\n",
        "plt.xlabel(\"Iterations\")\n",
        "plt.ylabel(\"Cost\")\n",
        "plt.title(\"Learning Curve\")\n",
        "plt.legend()\n",
        "plt.show()"
      ],
      "metadata": {
        "colab": {
          "base_uri": "https://localhost:8080/",
          "height": 492
        },
        "id": "bQ01C0xxMg18",
        "outputId": "6f6f8367-2b1e-495c-c75a-8916625d6175"
      },
      "execution_count": 19,
      "outputs": [
        {
          "output_type": "display_data",
          "data": {
            "text/plain": [
              "<Figure size 640x480 with 1 Axes>"
            ],
            "image/png": "[encoded data removed]"
          },
          "metadata": {}
        }
      ]
    },
    {
      "cell_type": "code",
      "source": [
        "fig, ax = plt.subplots(figsize=(7, 5))\n",
        "ax.plot(sorted(sigmoid_predictions), color=\"pink\", label=\"Sigmoid Curve\")\n",
        "ax.set_title(\"Sigmoid Curve\")\n",
        "ax.grid(True)\n",
        "ax.legend()\n",
        "plt.show()"
      ],
      "metadata": {
        "colab": {
          "base_uri": "https://localhost:8080/",
          "height": 488
        },
        "id": "cGu8Y9UfTTdP",
        "outputId": "8000d057-2e4a-4b88-ad1a-e8bfb9098f90"
      },
      "execution_count": 20,
      "outputs": [
        {
          "output_type": "display_data",
          "data": {
            "text/plain": [
              "<Figure size 700x500 with 1 Axes>"
            ],
            "image/png": "[encoded data removed]"
          },
          "metadata": {}
        }
      ]
    },
    {
      "cell_type": "code",
      "source": [
        "predictions = np.array(predictions)\n",
        "TP = np.sum((y_test==1) & (predictions==1))\n",
        "TN = np.sum((y_test==0) & (predictions==0))\n",
        "FP = np.sum((y_test==0) & (predictions==1))\n",
        "FN = np.sum((y_test==1) & (predictions==0))\n",
        "cm = [[TP, FP], [FN, TN]]\n",
        "plt.title('Confusion Matrix')\n",
        "sb.heatmap(cm, annot=True, fmt='d', cmap='bone_r', xticklabels=['Çerçevelik', 'Ürgüp Sivrisi'], yticklabels=['Çerçevelik', 'Ürgüp Sivrisi'])\n",
        "plt.xlabel('Predicted')\n",
        "plt.ylabel('True')\n",
        "plt.show()"
      ],
      "metadata": {
        "colab": {
          "base_uri": "https://localhost:8080/",
          "height": 494
        },
        "id": "9morOuGB_Y9Y",
        "outputId": "6800cdab-d75e-4dc9-b7d6-496c6100d0d1"
      },
      "execution_count": 28,
      "outputs": [
        {
          "output_type": "display_data",
          "data": {
            "text/plain": [
              "<Figure size 640x480 with 2 Axes>"
            ],
            "image/png": "[encoded data removed]"
          },
          "metadata": {}
        }
      ]
    },
    {
      "cell_type": "code",
      "source": [
        "print(f\"The model is {(TP+TN)/len(y_test)*100}% accurate.\")"
      ],
      "metadata": {
        "colab": {
          "base_uri": "https://localhost:8080/"
        },
        "id": "tlSFQ6RuS1Ps",
        "outputId": "8e6352a0-6dec-488e-b2f5-f29971f9f0a3"
      },
      "execution_count": 30,
      "outputs": [
        {
          "output_type": "stream",
          "name": "stdout",
          "text": [
            "The model is 88.4% accurate.\n"
          ]
        }
      ]
    }
  ]
}